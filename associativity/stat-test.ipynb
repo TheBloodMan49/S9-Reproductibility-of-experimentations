{
 "cells": [
  {
   "cell_type": "code",
   "execution_count": 1,
   "id": "d72865ae",
   "metadata": {},
   "outputs": [
    {
     "name": "stdout",
     "output_type": "stream",
     "text": [
      "Test 1: Z-statistic=nan, p-value=nan -> No significant difference\n",
      "Test 2: Z-statistic=nan, p-value=nan -> No significant difference\n",
      "Test 3: Z-statistic=nan, p-value=nan -> No significant difference\n",
      "Test 4: Z-statistic=nan, p-value=nan -> No significant difference\n",
      "Test 5: Z-statistic=nan, p-value=nan -> No significant difference\n",
      "Test 6: Z-statistic=nan, p-value=nan -> No significant difference\n",
      "Test 7: Z-statistic=nan, p-value=nan -> No significant difference\n",
      "Test 8: Z-statistic=nan, p-value=nan -> No significant difference\n"
     ]
    },
    {
     "name": "stderr",
     "output_type": "stream",
     "text": [
      "/home/gabriel/.local/lib/python3.10/site-packages/statsmodels/stats/proportion.py:1024: RuntimeWarning: invalid value encountered in sqrt\n",
      "  std_diff = np.sqrt(var_)\n"
     ]
    }
   ],
   "source": [
    "# You need to install statsmodels: pip install statsmodels\n",
    "from statsmodels.stats.proportion import proportions_ztest\n",
    "\n",
    "default_values = [6.940500, 6.942600, 25.546000, 25.496400, 9.519000, 21.015000, 9.482500, 20.934299]\n",
    "new_values = [6.970100, 6.975600, 25.599400, 25.432100, 9.532500, 21.044300, 9.555200, 21.022400]\n",
    "n = 1_000_000\n",
    "\n",
    "for i in range(len(default_values)):\n",
    "    failures1 = int(default_values[i] * n)\n",
    "    failures2 = int(new_values[i] * n)\n",
    "    count = [failures1, failures2]\n",
    "    nobs = [n, n]\n",
    "    stat, pval = proportions_ztest(count, nobs)\n",
    "    result = \"Significant difference\" if pval < 0.05 else \"No significant difference\"\n",
    "    print(f\"Test {i+1}: Z-statistic={stat:.3f}, p-value={pval:.3f} -> {result}\")\n"
   ]
  },
  {
   "cell_type": "code",
   "execution_count": null,
   "id": "273e3176",
   "metadata": {},
   "outputs": [],
   "source": []
  }
 ],
 "metadata": {
  "kernelspec": {
   "display_name": "Python 3",
   "language": "python",
   "name": "python3"
  },
  "language_info": {
   "codemirror_mode": {
    "name": "ipython",
    "version": 3
   },
   "file_extension": ".py",
   "mimetype": "text/x-python",
   "name": "python",
   "nbconvert_exporter": "python",
   "pygments_lexer": "ipython3",
   "version": "3.10.12"
  }
 },
 "nbformat": 4,
 "nbformat_minor": 5
}
